{
 "cells": [
  {
   "cell_type": "code",
   "execution_count": 1,
   "metadata": {},
   "outputs": [],
   "source": [
    "import numpy as np\n",
    "import numpy.linalg as npl\n",
    "import numpy.fft as fft\n",
    "import scipy as sp\n",
    "import scipy.linalg as spl\n",
    "import scipy.sparse as sps\n",
    "import matplotlib.pyplot as plt\n",
    "#%matplotlib inline\n",
    "%matplotlib widget\n",
    "\n",
    "pi = np.pi"
   ]
  },
  {
   "cell_type": "markdown",
   "metadata": {},
   "source": [
    "# Exercice 1 : Equation de transport"
   ]
  },
  {
   "cell_type": "markdown",
   "metadata": {},
   "source": [
    "$$u^{n+1}_{j} = u^{n-1}_j + c \\frac{\\partial t}{\\partial x} (u^n_{j+1} - u^n_{j-1})$$"
   ]
  },
  {
   "cell_type": "code",
   "execution_count": 2,
   "metadata": {},
   "outputs": [],
   "source": [
    "def u0(x, mu=0, sigma2=1):\n",
    "    exp = np.exp(-0.5 * ((x-mu)**2)/sigma2)\n",
    "    return exp/np.sqrt(2*pi*sigma2)"
   ]
  },
  {
   "cell_type": "code",
   "execution_count": 3,
   "metadata": {},
   "outputs": [],
   "source": [
    "def v0(x, k=0.5, mu=0, sigma2=1):\n",
    "    return u0(x, mu, sigma2) * np.sin(2*k*pi*x)"
   ]
  },
  {
   "cell_type": "code",
   "execution_count": 4,
   "metadata": {},
   "outputs": [],
   "source": [
    "def w0(x, a=-2.5, b=2.5):\n",
    "    return np.where((x>=a) & (x<=b), 1, 0) "
   ]
  },
  {
   "cell_type": "code",
   "execution_count": 5,
   "metadata": {},
   "outputs": [],
   "source": [
    "def sch_Saute_Mouton(U0, U1, c, dt, dx, T):\n",
    "    U = [U0, U1]\n",
    "    N = U0.size\n",
    "    A = c*dt/dx * sps.diags([1, -1, 1, -1], [-N, -1, 1, N], shape=[N, N]).toarray() \n",
    "    \n",
    "    n = 2\n",
    "    \n",
    "    while n*dt <= T:\n",
    "        U2 = U[-2] - A.dot(U[-1])\n",
    "        U.append(U2)\n",
    "        n += 1\n",
    "    \n",
    "    return U"
   ]
  },
  {
   "cell_type": "code",
   "execution_count": 6,
   "metadata": {},
   "outputs": [],
   "source": [
    "def sch_décentré_amont(U0, c, dt, dx, T):\n",
    "    U = [U0]\n",
    "    N = U0.size\n",
    "    A = np.eye(N) - c*dt/(dx) * sps.diags([-1, 1, -1], [-1, 0, N-1], shape=[N, N]).toarray()\n",
    "    \n",
    "    n = 1\n",
    "    \n",
    "    while n*dt <= T:\n",
    "        U1 = A.dot(U[-1])\n",
    "        U.append(U1)\n",
    "        n += 1\n",
    "        \n",
    "    return U"
   ]
  },
  {
   "cell_type": "code",
   "execution_count": 7,
   "metadata": {},
   "outputs": [],
   "source": [
    "def test_sch_décentré_amont(min, max, c, dt=0.005, dx=0.01, T=0.5):\n",
    "    x = np.linspace(min, max, int((max-min)/dx))\n",
    "    for func in [u0, v0, w0]:\n",
    "        U = sch_décentré_amont(func(x), c, dt, dx, T)\n",
    "        plt.figure(clear=True)\n",
    "        plt.plot(x ,U[0])\n",
    "        plt.plot(x, U[-1])\n",
    "        plt.show()"
   ]
  },
  {
   "cell_type": "code",
   "execution_count": 14,
   "metadata": {},
   "outputs": [
    {
     "data": {
      "application/vnd.jupyter.widget-view+json": {
       "model_id": "",
       "version_major": 2,
       "version_minor": 0
      },
      "text/plain": [
       "Canvas(toolbar=Toolbar(toolitems=[('Home', 'Reset original view', 'home', 'home'), ('Back', 'Back to previous …"
      ]
     },
     "metadata": {},
     "output_type": "display_data"
    },
    {
     "data": {
      "application/vnd.jupyter.widget-view+json": {
       "model_id": "",
       "version_major": 2,
       "version_minor": 0
      },
      "text/plain": [
       "Canvas(toolbar=Toolbar(toolitems=[('Home', 'Reset original view', 'home', 'home'), ('Back', 'Back to previous …"
      ]
     },
     "metadata": {},
     "output_type": "display_data"
    },
    {
     "name": "stderr",
     "output_type": "stream",
     "text": [
      "/home/pjbenard/anaconda3/lib/python3.7/site-packages/ipykernel_launcher.py:5: RuntimeWarning: More than 20 figures have been opened. Figures created through the pyplot interface (`matplotlib.pyplot.figure`) are retained until explicitly closed and may consume too much memory. (To control this warning, see the rcParam `figure.max_open_warning`).\n",
      "  \"\"\"\n"
     ]
    },
    {
     "data": {
      "application/vnd.jupyter.widget-view+json": {
       "model_id": "",
       "version_major": 2,
       "version_minor": 0
      },
      "text/plain": [
       "Canvas(toolbar=Toolbar(toolitems=[('Home', 'Reset original view', 'home', 'home'), ('Back', 'Back to previous …"
      ]
     },
     "metadata": {},
     "output_type": "display_data"
    }
   ],
   "source": [
    "test_sch_décentré_amont(-5, 5, c=0.5, dt=0.01, dx=0.01, T=60)"
   ]
  },
  {
   "cell_type": "code",
   "execution_count": 15,
   "metadata": {},
   "outputs": [],
   "source": [
    "def sch_décentré(U0, c, dt, dx, T):\n",
    "    U = [U0]\n",
    "    N = U0.size\n",
    "    A = np.eye(N) + c*dt/dx * sps.diags([-0.5, 1.5, -1, -0.5, 1.5], [-N+1, -1, 0, 1, N-1], shape=[N, N]).toarray()\n",
    "    \n",
    "    n = 1\n",
    "    \n",
    "    while n*dt <= T:\n",
    "        U1 = A.dot(U[-1])\n",
    "        U.append(U1)\n",
    "        n += 1\n",
    "        \n",
    "    return U"
   ]
  },
  {
   "cell_type": "code",
   "execution_count": 16,
   "metadata": {},
   "outputs": [],
   "source": [
    "def test_sch_décentré(min, max, c, dt=0.005, dx=0.01, T=0.5):\n",
    "    x = np.linspace(min, max, int((max-min)/dx))\n",
    "    for func in [u0, v0, w0]:\n",
    "        U = sch_décentré(func(x), c, dt, dx, T)\n",
    "        plt.figure(clear=True)\n",
    "        plt.plot(x ,U[0])\n",
    "        plt.plot(x, U[-1])\n",
    "        plt.show()"
   ]
  },
  {
   "cell_type": "code",
   "execution_count": 23,
   "metadata": {},
   "outputs": [
    {
     "data": {
      "application/vnd.jupyter.widget-view+json": {
       "model_id": "",
       "version_major": 2,
       "version_minor": 0
      },
      "text/plain": [
       "Canvas(toolbar=Toolbar(toolitems=[('Home', 'Reset original view', 'home', 'home'), ('Back', 'Back to previous …"
      ]
     },
     "metadata": {},
     "output_type": "display_data"
    },
    {
     "data": {
      "application/vnd.jupyter.widget-view+json": {
       "model_id": "",
       "version_major": 2,
       "version_minor": 0
      },
      "text/plain": [
       "Canvas(toolbar=Toolbar(toolitems=[('Home', 'Reset original view', 'home', 'home'), ('Back', 'Back to previous …"
      ]
     },
     "metadata": {},
     "output_type": "display_data"
    },
    {
     "data": {
      "application/vnd.jupyter.widget-view+json": {
       "model_id": "",
       "version_major": 2,
       "version_minor": 0
      },
      "text/plain": [
       "Canvas(toolbar=Toolbar(toolitems=[('Home', 'Reset original view', 'home', 'home'), ('Back', 'Back to previous …"
      ]
     },
     "metadata": {},
     "output_type": "display_data"
    }
   ],
   "source": [
    "test_sch_décentré(-5, 5, c=0.5, dt=0.005, dx=0.01, T=40)"
   ]
  },
  {
   "cell_type": "code",
   "execution_count": 19,
   "metadata": {},
   "outputs": [],
   "source": [
    "plt.close('all')"
   ]
  },
  {
   "cell_type": "markdown",
   "metadata": {},
   "source": [
    "## Exercice 2 : Visualiser les fonctions d'un espace de Sobolev"
   ]
  },
  {
   "cell_type": "markdown",
   "metadata": {},
   "source": [
    "On travaille avec les espaces suivants :\n",
    "\n",
    "$$L^2\\left(\\left[0, 2\\pi\\right]^d\\right) = \\left\\{ f, \\int_{0}^{2\\pi} \\left|f(x)\\right|^2 dx < +\\infty \\right\\}$$ \n",
    "\n",
    "$$H^{m}_{per}\\left(\\left[0, 2\\pi\\right]\\right) = \n",
    "\\left\\{ \n",
    "f \\in L^2\\left(\\left[0, 2\\pi\\right]\\right), \\sum_{k \\in \\mathbb{z}} \\left(1 + k^{2}\\right)^m \\left|c_{k}(f)\\right|^2 < +\\infty \n",
    "\\right\\}$$\n",
    "\n",
    "$$H^{m}_{per}\\left(\\left[0, 2\\pi\\right]^2\\right) = \n",
    "\\left\\{ \n",
    "f \\in L^2\\left(\\left[0, 2\\pi\\right]^2\\right), \\sum_{k, l \\in \\mathbb{z}} \\left(1 + k^{2} + l^{2}\\right)^m \\left|c_{k,l}(f)\\right|^2 < +\\infty \n",
    "\\right\\}$$"
   ]
  },
  {
   "cell_type": "markdown",
   "metadata": {},
   "source": [
    "On veut constuire des fonctions $f_{i}$ dont les coefficients de Fourier vérifient :\n",
    "$$\\left|c_{k}\\left(f_{i}\\right)\\right| = \\left(1 + k^{2}\\right)^{-\\alpha/2} \\text{ en dimension 1}$$\n",
    "$$\\left|c_{k, l}\\left(f_{i}\\right)\\right| = \\left(1 + k^{2} + l^{2}\\right)^{-\\alpha/2} \\text{ en dimension 2}$$"
   ]
  },
  {
   "cell_type": "markdown",
   "metadata": {},
   "source": [
    "En cherchant $f_{2}$ telle que $f_{2} \\in H^{1}([0, 2\\pi]^{d}) \\text{ et} \\notin H^{2}([0, 2\\pi]^{d})$, on obtient :\n",
    "\n",
    "$$\n",
    "\\sum_{k \\in \\mathbb{z}} \\left(1 + k^{2}\\right)^m \\left|c_{k}(f)\\right|^2 < +\\infty \n",
    "\n",
    "\\sum_{k, l \\in \\mathbb{z}} \\left(1 + k^{2} + l^{2}\\right)^m \\left|c_{k,l}(f)\\right|^2 < +\\infty \n",
    "\n",
    "$$"
   ]
  },
  {
   "cell_type": "code",
   "execution_count": 24,
   "metadata": {},
   "outputs": [],
   "source": [
    "def sobolev(alpha=1, N=2**9, pha=None):\n",
    "    K, L = np.meshgrid(np.arange(N), np.arange(N))\n",
    "    module = (1 + K**2 + L**2)**(-alpha/2)\n",
    "    \n",
    "    if pha is None:\n",
    "        phase = np.random.random((N, N))*2*pi\n",
    "        coeffs = module * np.exp(1j * phase)\n",
    "    \n",
    "    coeffs = module * np.exp(1j * pha)\n",
    "    f = fft.ifft2(coeffs)\n",
    "    \n",
    "    return np.real(f)"
   ]
  },
  {
   "cell_type": "code",
   "execution_count": 25,
   "metadata": {},
   "outputs": [
    {
     "data": {
      "application/vnd.jupyter.widget-view+json": {
       "model_id": "",
       "version_major": 2,
       "version_minor": 0
      },
      "text/plain": [
       "Canvas(toolbar=Toolbar(toolitems=[('Home', 'Reset original view', 'home', 'home'), ('Back', 'Back to previous …"
      ]
     },
     "metadata": {},
     "output_type": "display_data"
    }
   ],
   "source": [
    "fig = plt.figure(figsize=(12, 12))\n",
    "N = 2**9\n",
    "seed = np.random.randint(10000)\n",
    "np.random.seed()\n",
    "phase = np.random.random((N, N))*2*pi\n",
    "for i in range(1, 5):\n",
    "    \n",
    "    ax = fig.add_subplot(220+i)\n",
    "    image = sobolev(i, N, phase)\n",
    "    ax.imshow(image)\n",
    "\n",
    "plt.show()"
   ]
  },
  {
   "cell_type": "code",
   "execution_count": 28,
   "metadata": {},
   "outputs": [
    {
     "data": {
      "application/vnd.jupyter.widget-view+json": {
       "model_id": "",
       "version_major": 2,
       "version_minor": 0
      },
      "text/plain": [
       "Canvas(toolbar=Toolbar(toolitems=[('Home', 'Reset original view', 'home', 'home'), ('Back', 'Back to previous …"
      ]
     },
     "metadata": {},
     "output_type": "display_data"
    }
   ],
   "source": [
    "import matplotlib.pyplot as plt\n",
    "from mpl_toolkits.mplot3d import Axes3D\n",
    "%matplotlib widget\n",
    "\n",
    "fig = plt.figure()\n",
    "ax = fig.add_subplot(111, projection='3d')\n",
    "\n",
    "phase = np.random.random((N, N))*2*pi\n",
    "X, Y = np.meshgrid(np.arange(N), np.arange(N))\n",
    "\n",
    "image = sobolev(10, N, phase)\n",
    "    \n",
    "ax.plot_surface(X, Y, image, cmap=\"Purples\")\n",
    "plt.show()"
   ]
  },
  {
   "cell_type": "code",
   "execution_count": 29,
   "metadata": {},
   "outputs": [],
   "source": [
    "images = []\n",
    "\n",
    "seed = np.random.randint(10000)\n",
    "np.random.seed()\n",
    "phase = np.random.random((N, N))*2*pi\n",
    "for i in np.linspace(1, 5, num=50):\n",
    "    image = sobolev(i, N, phase)\n",
    "    images.append(image)"
   ]
  },
  {
   "cell_type": "code",
   "execution_count": 30,
   "metadata": {},
   "outputs": [
    {
     "data": {
      "application/vnd.jupyter.widget-view+json": {
       "model_id": "",
       "version_major": 2,
       "version_minor": 0
      },
      "text/plain": [
       "Canvas(toolbar=Toolbar(toolitems=[('Home', 'Reset original view', 'home', 'home'), ('Back', 'Back to previous …"
      ]
     },
     "metadata": {},
     "output_type": "display_data"
    }
   ],
   "source": [
    "len(images)\n",
    "plt.figure()\n",
    "plt.imshow(images[0])\n",
    "plt.show()"
   ]
  },
  {
   "cell_type": "code",
   "execution_count": null,
   "metadata": {},
   "outputs": [],
   "source": [
    "def plot_sobolev(alpha=1, seed=100):\n",
    "    fig = plt.figure()\n",
    "    ax = fig.add_subplot(111)\n",
    "\n",
    "    N = 2**7\n",
    "    np.random.seed(seed)\n",
    "    phase = np.random.random((N, N))*2*pi\n",
    "\n",
    "    image = sobolev(alpha, N, phase)\n",
    "    \n",
    "    ax.imshow(image)\n",
    "    plt.show()"
   ]
  },
  {
   "cell_type": "code",
   "execution_count": 31,
   "metadata": {},
   "outputs": [],
   "source": [
    "plt.close('all')"
   ]
  },
  {
   "cell_type": "markdown",
   "metadata": {},
   "source": [
    "## Exercice 3"
   ]
  },
  {
   "cell_type": "code",
   "execution_count": null,
   "metadata": {},
   "outputs": [],
   "source": []
  }
 ],
 "metadata": {
  "kernelspec": {
   "display_name": "Python 3",
   "language": "python",
   "name": "python3"
  },
  "language_info": {
   "codemirror_mode": {
    "name": "ipython",
    "version": 3
   },
   "file_extension": ".py",
   "mimetype": "text/x-python",
   "name": "python",
   "nbconvert_exporter": "python",
   "pygments_lexer": "ipython3",
   "version": "3.7.6"
  }
 },
 "nbformat": 4,
 "nbformat_minor": 4
}
